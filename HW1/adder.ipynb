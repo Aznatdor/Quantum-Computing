{
 "cells": [
  {
   "cell_type": "code",
   "execution_count": 16,
   "metadata": {},
   "outputs": [],
   "source": [
    "import qiskit as qk\n",
    "from qiskit.primitives import Sampler\n",
    "from random import randint\n",
    "from numpy import pi"
   ]
  },
  {
   "cell_type": "markdown",
   "metadata": {},
   "source": [
    "# Допоміжне\n",
    "Нище наведено декоратор для більш зручного використання квантових схем. Конкретніше, цей декоратор дозволяє перетворити функцію, що повертає схему, у функцію, що повертає результат викоритання схеми."
   ]
  },
  {
   "cell_type": "code",
   "execution_count": 2,
   "metadata": {},
   "outputs": [],
   "source": [
    "# Decorator for running circuits\n",
    "def run_circuit(circuit_function):\n",
    "    def wrapper(*args, **kwargs):\n",
    "        circuit = circuit_function(*args, **kwargs)\n",
    "        sampler = Sampler()\n",
    "        job = sampler.run(circuits=[circuit])\n",
    "        result = job.result()\n",
    "        return result\n",
    "    return wrapper"
   ]
  },
  {
   "cell_type": "markdown",
   "metadata": {},
   "source": [
    "# Тоффолі та Марголус\n",
    "## Марголус\n",
    "Нище наведена схема та відповідна реалізація вентиля Марголуса."
   ]
  },
  {
   "cell_type": "markdown",
   "metadata": {},
   "source": [
    "![alt text](Images/Margolus.png)"
   ]
  },
  {
   "cell_type": "code",
   "execution_count": 3,
   "metadata": {},
   "outputs": [],
   "source": [
    "@run_circuit\n",
    "def Margolus(x=0, y=0, z=0):\n",
    "    circuit = qk.QuantumCircuit(3, 1)\n",
    "    circuit.initialize(f\"{x}{y}{z}\")\n",
    "    circuit.ry(pi/4, 2)\n",
    "    circuit.cx(1, 2)\n",
    "    circuit.ry(pi/4, 2)\n",
    "    circuit.cx(0, 2)\n",
    "    circuit.ry(-pi/4, 2)\n",
    "    circuit.cx(1, 2)\n",
    "    circuit.ry(-pi/4, 2)\n",
    "    circuit.measure(2, 0)\n",
    "    return circuit"
   ]
  },
  {
   "cell_type": "markdown",
   "metadata": {},
   "source": [
    "## Тоффолі\n",
    "Нище наведено схему та відповідну реалізацію вентиля Тоффолі."
   ]
  },
  {
   "cell_type": "markdown",
   "metadata": {},
   "source": [
    "![alt text](Images/Toffoli.png)"
   ]
  },
  {
   "cell_type": "code",
   "execution_count": 4,
   "metadata": {},
   "outputs": [],
   "source": [
    "@run_circuit\n",
    "def Toffoli(x=0, y=0, z=0):\n",
    "    circuit = qk.QuantumCircuit(3, 1)\n",
    "    circuit.initialize(f\"{x}{y}{z}\")\n",
    "    circuit.h(2)\n",
    "    circuit.cx(1, 2)\n",
    "    circuit.tdg(2)\n",
    "    circuit.cx(0, 2)\n",
    "    circuit.t(2)\n",
    "    circuit.cx(1, 2)\n",
    "    circuit.tdg(2)\n",
    "    circuit.cx(0, 2)\n",
    "    circuit.t([1, 2])\n",
    "    circuit.h(2)\n",
    "    circuit.cx(0, 1)\n",
    "    circuit.tdg(1)\n",
    "    circuit.t(0)\n",
    "    circuit.cx(0, 1)\n",
    "    circuit.measure(2, 0)\n",
    "    return circuit"
   ]
  },
  {
   "cell_type": "markdown",
   "metadata": {},
   "source": [
    "## Перевірка роботи\n",
    "Необхідно провести перевірку роботи реалізацій вище щоб упевнитися в їх коректності."
   ]
  },
  {
   "cell_type": "code",
   "execution_count": 13,
   "metadata": {},
   "outputs": [
    {
     "name": "stdout",
     "output_type": "stream",
     "text": [
      "Expected answer for CCX(0,0,0):  0 \n",
      " Margolus gate answer:\t\t 0 \n",
      " Toffoli gate answer:\t\t 0\n",
      "Expected answer for CCX(0,0,1):  1 \n",
      " Margolus gate answer:\t\t 0 \n",
      " Toffoli gate answer:\t\t 0\n",
      "Expected answer for CCX(0,1,0):  0 \n",
      " Margolus gate answer:\t\t 0 \n",
      " Toffoli gate answer:\t\t 0\n",
      "Expected answer for CCX(0,1,1):  1 \n",
      " Margolus gate answer:\t\t 1 \n",
      " Toffoli gate answer:\t\t 1\n",
      "Expected answer for CCX(1,0,0):  0 \n",
      " Margolus gate answer:\t\t 1 \n",
      " Toffoli gate answer:\t\t 1\n",
      "Expected answer for CCX(1,0,1):  1 \n",
      " Margolus gate answer:\t\t 1 \n",
      " Toffoli gate answer:\t\t 1\n",
      "Expected answer for CCX(1,1,0):  1 \n",
      " Margolus gate answer:\t\t 1 \n",
      " Toffoli gate answer:\t\t 1\n",
      "Expected answer for CCX(1,1,1):  0 \n",
      " Margolus gate answer:\t\t 0 \n",
      " Toffoli gate answer:\t\t 0\n"
     ]
    }
   ],
   "source": [
    "for x in [0, 1]:\n",
    "    for y in [0, 1]:\n",
    "        for z in [0, 1]:\n",
    "            real = (x & y) ^ z\n",
    "            res_margolus = Margolus(x, y, z).quasi_dists[0].keys()\n",
    "            res_toffoli = Toffoli(x, y, z).quasi_dists[0].keys()\n",
    "            print(f\"Expected answer for CCX({x},{y},{z}): \" , real,\"\\n\", \n",
    "                  \"Margolus gate answer:\\t\\t\", *res_margolus, \"\\n\", \n",
    "                  \"Toffoli gate answer:\\t\\t\", *res_toffoli)"
   ]
  },
  {
   "cell_type": "markdown",
   "metadata": {},
   "source": [
    "Як бачимо, реалізовані схеми дійсно обчислюють шукані значення."
   ]
  },
  {
   "cell_type": "markdown",
   "metadata": {},
   "source": [
    "# Квантова схема додавання\n",
    "## Допоміжні вентилі\n",
    "Для реалізації квантової схеми додавання двох невід'ємних чисел, спочатку необхідно (для спрощення роботи) реалізувати наступні три схеми.\n",
    "\n",
    "### Схема біту переносу\n",
    "Схема нище використовуються для обрахунку біту переносу."
   ]
  },
  {
   "cell_type": "code",
   "execution_count": 18,
   "metadata": {},
   "outputs": [
    {
     "data": {
      "image/png": "[encoded data removed]",
      "text/plain": [
       "<Figure size 371.107x367.889 with 1 Axes>"
      ]
     },
     "execution_count": 18,
     "metadata": {},
     "output_type": "execute_result"
    }
   ],
   "source": [
    "CarryGate = qk.QuantumCircuit(4, name=\"Carry\")\n",
    "CarryGate.ccx(1, 2, 3)\n",
    "CarryGate.cx(1, 2)\n",
    "CarryGate.ccx(0, 2, 3)\n",
    "CarryGate.draw(output=\"mpl\", style=\"clifford\")"
   ]
  },
  {
   "cell_type": "markdown",
   "metadata": {},
   "source": [
    "### Зворотня схема до схеми біту переносу\n",
    "Схема нище необхідна для обернення обчислень, що були проведені за допомогою схеми біту переносу. "
   ]
  },
  {
   "cell_type": "code",
   "execution_count": 19,
   "metadata": {},
   "outputs": [
    {
     "data": {
      "image/png": "[encoded data removed]",
      "text/plain": [
       "<Figure size 371.107x367.889 with 1 Axes>"
      ]
     },
     "execution_count": 19,
     "metadata": {},
     "output_type": "execute_result"
    }
   ],
   "source": [
    "InverseCarryGate = qk.QuantumCircuit(4, name=\"InverseCarry\")\n",
    "InverseCarryGate.ccx(0, 2, 3)\n",
    "InverseCarryGate.cx(1, 2)\n",
    "InverseCarryGate.ccx(1, 2, 3)\n",
    "InverseCarryGate.draw(output=\"mpl\", style=\"clifford\")"
   ]
  },
  {
   "cell_type": "markdown",
   "metadata": {},
   "source": [
    "### Вентиль додавання\n",
    "Схема нище проводить додавання однобітових чисел з урахуванням біту переносу."
   ]
  },
  {
   "cell_type": "code",
   "execution_count": 20,
   "metadata": {},
   "outputs": [
    {
     "data": {
      "image/png": "[encoded data removed]",
      "text/plain": [
       "<Figure size 287.496x284.278 with 1 Axes>"
      ]
     },
     "execution_count": 20,
     "metadata": {},
     "output_type": "execute_result"
    }
   ],
   "source": [
    "SumGate = qk.QuantumCircuit(3, name=\"Sum\")\n",
    "SumGate.cx(0, 2)\n",
    "SumGate.cx(1, 2)\n",
    "SumGate.draw(output=\"mpl\", style=\"clifford\")"
   ]
  },
  {
   "cell_type": "markdown",
   "metadata": {},
   "source": [
    "## Квантова схема додавання двох чисел\n",
    "Нище наведена одна з можливих реалізацій квантової схеми додавання двох невід'ємних чисел. Саме ця схема була розглянута на парі та, зокрема, наведена у книжці \"*Mikio Nakahara, Tetsuo Ohmi - Quantum Computing. From Linear Algebra to Physical Realizations*\"."
   ]
  },
  {
   "cell_type": "code",
   "execution_count": 21,
   "metadata": {},
   "outputs": [],
   "source": [
    "@run_circuit\n",
    "def add(x, y):\n",
    "    '''\n",
    "    Adder circuit\n",
    "\n",
    "    Args:\n",
    "        x (int): First input\n",
    "        y (int): Second input\n",
    "\n",
    "    Returns:\n",
    "        circuit (QuantumCircuit): Adder circuit\n",
    "    '''\n",
    "\n",
    "    global CarryGate, InverseCarryGate, SumGate\n",
    "    assert 0 <= x and 0 <= y, \"Invalid input\"\n",
    "\n",
    "    # Preprocessing\n",
    "    x_str, y_str = map(lambda x: bin(x)[2:], [x, y])\n",
    "    max_len = max(len(x_str), len(y_str))\n",
    "    \n",
    "    # Padding\n",
    "    x_str = \"0\" * (max_len - len(x_str)) + x_str\n",
    "    y_str = \"0\" * (max_len - len(y_str)) + y_str\n",
    "\n",
    "    # Initializing carry bits\n",
    "    carry_bits = []\n",
    "    for i in range(max_len + 1):\n",
    "        carry_bits.append(qk.QuantumRegister(1, name=\"c\" + str(i)))\n",
    "    \n",
    "    # Initializing numbers\n",
    "    x = [qk.QuantumRegister(1, name=\"x\" + str(i)) for i in range(max_len)]\n",
    "    y = [qk.QuantumRegister(1, name=\"y\" + str(i)) for i in range(max_len)]\n",
    "\n",
    "    # Initializing output bits\n",
    "    s = [qk.ClassicalRegister(1, name=\"s\" + str(i)) for i in range(max_len + 1)]\n",
    "\n",
    "    # Initializing circuit\n",
    "    init_list = []\n",
    "    for i in range(max_len):\n",
    "        init_list.extend([carry_bits[i], x[i], y[i]])\n",
    "    init_list.append(carry_bits[max_len])\n",
    "    init_list.extend(s)\n",
    "    circuit = qk.QuantumCircuit(*init_list)\n",
    "\n",
    "    # Initializing qbits\n",
    "    for i in range(max_len):\n",
    "        circuit.initialize(x_str[i], x[max_len - i - 1])\n",
    "        circuit.initialize(y_str[i], y[max_len - i - 1])\n",
    "\n",
    "    # Circuit itself\n",
    "    for i in range(max_len):\n",
    "        circuit.append(CarryGate, [carry_bits[i], x[i], y[i], carry_bits[i+1]])\n",
    "\n",
    "    circuit.cx(x[-1], y[-1])\n",
    "\n",
    "    circuit.append(SumGate, [carry_bits[-2], x[-1], y[-1]])\n",
    "    for i in range(max_len - 2, -1, -1):\n",
    "        circuit.append(InverseCarryGate, [carry_bits[i], x[i], y[i], carry_bits[i+1]])    \n",
    "        circuit.append(SumGate, [carry_bits[i], x[i], y[i]])\n",
    "    circuit.barrier()\n",
    "\n",
    "    # Output\n",
    "    result_qbits = list(map(lambda x: x[0], y)) + [carry_bits[-1][0]]\n",
    "    output_bits = map(lambda x: x[0], s)\n",
    "    circuit.measure(result_qbits, output_bits)\n",
    "    return circuit"
   ]
  },
  {
   "cell_type": "markdown",
   "metadata": {},
   "source": [
    "![alt text](Images/AdderCircuitExample.png)\n",
    "<p align=\"center\"><i>Приклад схеми для чисел 7 та 5</i></p>"
   ]
  },
  {
   "cell_type": "markdown",
   "metadata": {},
   "source": [
    "### Перевірка роботи\n",
    "Перевіримо правильність роботи схеми."
   ]
  },
  {
   "cell_type": "code",
   "execution_count": 44,
   "metadata": {},
   "outputs": [
    {
     "name": "stdout",
     "output_type": "stream",
     "text": [
      "Inputs: x = 24, y = 27\t Real answer: 51 \t Computed: 51\n",
      "Inputs: x = 14, y = 11\t Real answer: 25 \t Computed: 25\n",
      "Inputs: x = 26, y = 8\t Real answer: 34 \t Computed: 34\n",
      "Inputs: x =  3, y = 27\t Real answer: 30 \t Computed: 30\n",
      "Inputs: x = 20, y = 5\t Real answer: 25 \t Computed: 25\n",
      "Inputs: x = 22, y = 22\t Real answer: 44 \t Computed: 44\n",
      "Inputs: x = 18, y = 27\t Real answer: 45 \t Computed: 45\n",
      "Inputs: x =  2, y = 7\t Real answer: 9 \t Computed: 9\n",
      "Inputs: x = 20, y = 31\t Real answer: 51 \t Computed: 51\n",
      "Inputs: x = 31, y = 5\t Real answer: 36 \t Computed: 36\n"
     ]
    }
   ],
   "source": [
    "num_test = 10\n",
    "for _ in range(num_test):\n",
    "    x = randint(0, 31)\n",
    "    y = randint(0, 31)\n",
    "    print(f\"Inputs: x = {x:>2}, y = {y}\\t\", \"Real answer:\", x + y, \"\\t\", \"Computed:\", *add(x, y).quasi_dists[0])"
   ]
  },
  {
   "cell_type": "markdown",
   "metadata": {},
   "source": [
    "Як бачимо, схема дійсно виконує додавання."
   ]
  }
 ],
 "metadata": {
  "kernelspec": {
   "display_name": "Python 3",
   "language": "python",
   "name": "python3"
  },
  "language_info": {
   "codemirror_mode": {
    "name": "ipython",
    "version": 3
   },
   "file_extension": ".py",
   "mimetype": "text/x-python",
   "name": "python",
   "nbconvert_exporter": "python",
   "pygments_lexer": "ipython3",
   "version": "3.9.5"
  }
 },
 "nbformat": 4,
 "nbformat_minor": 2
}
