{
 "cells": [
  {
   "cell_type": "code",
   "execution_count": 1,
   "metadata": {},
   "outputs": [],
   "source": [
    "import qiskit as qk\n",
    "import qiskit_aer as qa\n",
    "from qiskit.primitives import Sampler\n",
    "from qiskit.circuit.library import PhaseOracle\n",
    "%matplotlib inline"
   ]
  },
  {
   "cell_type": "code",
   "execution_count": 2,
   "metadata": {},
   "outputs": [],
   "source": [
    "quantum_register = qk.QuantumRegister(2) # Створюємо двокубітну систему / Creating 2-qbit system\n",
    "classiclal_register = qk.ClassicalRegister(1) # Створюємо 1 класичний біт для зберігання відповіді / Creating 1 bit to store the answer\n",
    "circuit = qk.QuantumCircuit(quantum_register, classiclal_register) # Ініціалізуємо квантову схему / Intializing quantum circuit"
   ]
  },
  {
   "cell_type": "code",
   "execution_count": 3,
   "metadata": {},
   "outputs": [],
   "source": [
    "\"\"\"\n",
    "Не сталі (Non-constant)  |  Сталі (Constants)\n",
    "----------------------------------\n",
    "    func(a) = a          |   func(a) = a & ~a\n",
    "    func(a) = ~a         |   func(a) = a | ~a\n",
    "\"\"\"\n",
    "\n",
    "non_constant_functions = [\"a\", \"~a\"]\n",
    "constant_functions = [\"a & ~a\", \"a | ~a\"]\n",
    "\n",
    "oracle = PhaseOracle(constant_functions[0])  # Створюємо оракула / Creating an oracle"
   ]
  },
  {
   "cell_type": "code",
   "execution_count": 4,
   "metadata": {},
   "outputs": [
    {
     "data": {
      "image/png": "[encoded data removed]",
      "text/plain": [
       "<Figure size 807.192x284.278 with 1 Axes>"
      ]
     },
     "execution_count": 4,
     "metadata": {},
     "output_type": "execute_result"
    }
   ],
   "source": [
    "# Застосовуємо вентль Паулі Х до другого кубіту / Applying Pauli X gate to the second qubit\n",
    "circuit.pauli(pauli_string=\"X\", qubits=[quantum_register[1]])\n",
    "\n",
    "# Застосовуємо вентиль Адамара до усього регістру / Apllying Hadamard gate to the whole register\n",
    "circuit.h(quantum_register)\n",
    "\n",
    "# Застосовуємо оракула до кожного кубіту / Applying oracle individually to each qubit\n",
    "circuit.append(oracle, [quantum_register[0]])\n",
    "circuit.append(oracle, [quantum_register[1]])\n",
    "\n",
    "# Застосовуємо вентиль Адамара до першого кубіту / Applying Hadamard gate to the first qubit\n",
    "circuit.h(quantum_register[0])\n",
    "\n",
    "# Вимірюємо перший кубіт / Measuring the first qubit\n",
    "circuit.measure(quantum_register[0], classiclal_register)\n",
    "\n",
    "# Малюємо красиву картинку / Drawing pretty picture\n",
    "circuit.draw(output=\"mpl\", style=\"clifford\")"
   ]
  },
  {
   "cell_type": "code",
   "execution_count": 5,
   "metadata": {},
   "outputs": [
    {
     "name": "stdout",
     "output_type": "stream",
     "text": [
      "The function is constant\n"
     ]
    }
   ],
   "source": [
    "# Створюємо бекенд для симуляції / Creating backend for the simulation\n",
    "simulator = qa.Aer.get_backend('qasm_simulator')\n",
    "\n",
    "# Створюємо Sampler для локальної симуляції / Creating Sampler to run simulation localy\n",
    "sampler = Sampler()\n",
    "\n",
    "# Проводимо симуляцію / Running simulation of the circuit\n",
    "job = sampler.run(circuits=[circuit])\n",
    "\n",
    "# Одержуємо результат / Getting result\n",
    "result = job.result()\n",
    "\n",
    "# Виводимо відповідь на задачу Дойча / Printing an answer to the Deutsch problem\n",
    "if 0 in result.quasi_dists[0]:\n",
    "    print(\"The function is constant\")\n",
    "else:\n",
    "    print(\"The function is non-constant\")\n",
    "\n",
    "# Виводимо діаграму / Plotting histogram\n",
    "# qk.visualization.plot_distribution(result.quasi_dists[0]) "
   ]
  }
 ],
 "metadata": {
  "kernelspec": {
   "display_name": "Python 3",
   "language": "python",
   "name": "python3"
  },
  "language_info": {
   "codemirror_mode": {
    "name": "ipython",
    "version": 3
   },
   "file_extension": ".py",
   "mimetype": "text/x-python",
   "name": "python",
   "nbconvert_exporter": "python",
   "pygments_lexer": "ipython3",
   "version": "3.9.5"
  }
 },
 "nbformat": 4,
 "nbformat_minor": 2
}
